{
 "cells": [
  {
   "cell_type": "markdown",
   "id": "81f3026d-aca7-4735-875d-a698797fed68",
   "metadata": {},
   "source": [
    "IMPORTING NEEDED LIBRARIES"
   ]
  },
  {
   "cell_type": "code",
   "execution_count": 1,
   "id": "7bc4cb57-cfc6-49bf-b12b-d24b5eac91e2",
   "metadata": {},
   "outputs": [],
   "source": [
    "import pandas as pd\n",
    "import numpy as np\n",
    "import torch\n",
    "from sklearn.model_selection import train_test_split\n",
    "import optuna"
   ]
  },
  {
   "cell_type": "markdown",
   "id": "f672bf1a-f87c-4c51-a258-12348fcf0278",
   "metadata": {},
   "source": [
    "LOADING THE DATASET"
   ]
  },
  {
   "cell_type": "code",
   "execution_count": 2,
   "id": "143fab28-cd9a-4275-8cc7-fe71b7bd8147",
   "metadata": {},
   "outputs": [
    {
     "name": "stdout",
     "output_type": "stream",
     "text": [
      "Index(['ProductionVolume', 'ProductionCost', 'SupplierQuality',\n",
      "       'DeliveryDelay', 'DefectRate', 'QualityScore', 'MaintenanceHours',\n",
      "       'DowntimePercentage', 'InventoryTurnover', 'StockoutRate',\n",
      "       'WorkerProductivity', 'SafetyIncidents', 'EnergyConsumption',\n",
      "       'EnergyEfficiency', 'AdditiveProcessTime', 'AdditiveMaterialCost',\n",
      "       'DefectStatus'],\n",
      "      dtype='object')\n"
     ]
    }
   ],
   "source": [
    "df = pd.read_csv('manufacturing_defect_dataset.csv')\n",
    "print(df.columns)"
   ]
  },
  {
   "cell_type": "markdown",
   "id": "9dac307b-e06a-4c14-b682-9d2b58ab7837",
   "metadata": {},
   "source": [
    "# DATA PREPROCESSING"
   ]
  },
  {
   "cell_type": "code",
   "execution_count": 3,
   "id": "9d78f311-e667-4ddb-b99b-775f8586e95e",
   "metadata": {
    "scrolled": true
   },
   "outputs": [
    {
     "name": "stdout",
     "output_type": "stream",
     "text": [
      "<class 'pandas.core.frame.DataFrame'>\n",
      "RangeIndex: 3240 entries, 0 to 3239\n",
      "Data columns (total 17 columns):\n",
      " #   Column                Non-Null Count  Dtype  \n",
      "---  ------                --------------  -----  \n",
      " 0   ProductionVolume      3240 non-null   int64  \n",
      " 1   ProductionCost        3240 non-null   float64\n",
      " 2   SupplierQuality       3240 non-null   float64\n",
      " 3   DeliveryDelay         3240 non-null   int64  \n",
      " 4   DefectRate            3240 non-null   float64\n",
      " 5   QualityScore          3240 non-null   float64\n",
      " 6   MaintenanceHours      3240 non-null   int64  \n",
      " 7   DowntimePercentage    3240 non-null   float64\n",
      " 8   InventoryTurnover     3240 non-null   float64\n",
      " 9   StockoutRate          3240 non-null   float64\n",
      " 10  WorkerProductivity    3240 non-null   float64\n",
      " 11  SafetyIncidents       3240 non-null   int64  \n",
      " 12  EnergyConsumption     3240 non-null   float64\n",
      " 13  EnergyEfficiency      3240 non-null   float64\n",
      " 14  AdditiveProcessTime   3240 non-null   float64\n",
      " 15  AdditiveMaterialCost  3240 non-null   float64\n",
      " 16  DefectStatus          3240 non-null   int64  \n",
      "dtypes: float64(12), int64(5)\n",
      "memory usage: 430.4 KB\n"
     ]
    }
   ],
   "source": [
    "# Getting the information about datatype of data in the columns .\n",
    "df.info()"
   ]
  },
  {
   "cell_type": "code",
   "execution_count": 4,
   "id": "d013a6cd-8ee2-4840-931a-b5ee77ba140f",
   "metadata": {},
   "outputs": [
    {
     "data": {
      "text/plain": [
       "ProductionVolume        0\n",
       "ProductionCost          0\n",
       "SupplierQuality         0\n",
       "DeliveryDelay           0\n",
       "DefectRate              0\n",
       "QualityScore            0\n",
       "MaintenanceHours        0\n",
       "DowntimePercentage      0\n",
       "InventoryTurnover       0\n",
       "StockoutRate            0\n",
       "WorkerProductivity      0\n",
       "SafetyIncidents         0\n",
       "EnergyConsumption       0\n",
       "EnergyEfficiency        0\n",
       "AdditiveProcessTime     0\n",
       "AdditiveMaterialCost    0\n",
       "DefectStatus            0\n",
       "dtype: int64"
      ]
     },
     "execution_count": 4,
     "metadata": {},
     "output_type": "execute_result"
    }
   ],
   "source": [
    "# Checking if there is any null value in the data.\n",
    "df.isnull().sum()"
   ]
  },
  {
   "cell_type": "code",
   "execution_count": 5,
   "id": "84b5ed9a-56ae-4ec8-906b-8c6f8a7f458b",
   "metadata": {},
   "outputs": [
    {
     "data": {
      "text/plain": [
       "0"
      ]
     },
     "execution_count": 5,
     "metadata": {},
     "output_type": "execute_result"
    }
   ],
   "source": [
    "# Checking the Duplicate values .\n",
    "df.duplicated().sum()"
   ]
  },
  {
   "cell_type": "code",
   "execution_count": 6,
   "id": "2db0ddee-a815-42eb-867f-088689861223",
   "metadata": {},
   "outputs": [
    {
     "data": {
      "text/plain": [
       "Index(['ProductionVolume', 'ProductionCost', 'SupplierQuality',\n",
       "       'DeliveryDelay', 'DefectRate', 'QualityScore', 'MaintenanceHours',\n",
       "       'DowntimePercentage', 'InventoryTurnover', 'StockoutRate',\n",
       "       'WorkerProductivity', 'SafetyIncidents', 'EnergyConsumption',\n",
       "       'EnergyEfficiency', 'AdditiveProcessTime', 'AdditiveMaterialCost',\n",
       "       'DefectStatus'],\n",
       "      dtype='object')"
      ]
     },
     "execution_count": 6,
     "metadata": {},
     "output_type": "execute_result"
    }
   ],
   "source": [
    "# Checking all the columns.\n",
    "df.columns"
   ]
  },
  {
   "cell_type": "code",
   "execution_count": 7,
   "id": "b9604dff-e7d1-4931-92db-eb1ec3099ab6",
   "metadata": {},
   "outputs": [],
   "source": [
    "# Removing unnecassary columns.\n",
    "df.drop(['ProductionVolume' , 'ProductionCost' , 'DeliveryDelay' , 'InventoryTurnover' ,'StockoutRate' ,'WorkerProductivity' ,'EnergyEfficiency' , 'AdditiveProcessTime' ,'AdditiveMaterialCost'] , axis = 1 , inplace = True)"
   ]
  },
  {
   "cell_type": "code",
   "execution_count": 8,
   "id": "c04740fd-c478-4f6a-a355-cd1b76324eaa",
   "metadata": {},
   "outputs": [
    {
     "data": {
      "text/plain": [
       "Index(['SupplierQuality', 'DefectRate', 'QualityScore', 'MaintenanceHours',\n",
       "       'DowntimePercentage', 'SafetyIncidents', 'EnergyConsumption',\n",
       "       'DefectStatus'],\n",
       "      dtype='object')"
      ]
     },
     "execution_count": 8,
     "metadata": {},
     "output_type": "execute_result"
    }
   ],
   "source": [
    "# Checking remaining columns .\n",
    "df.columns"
   ]
  },
  {
   "cell_type": "code",
   "execution_count": 9,
   "id": "13ad7d3e-5b75-41a6-91ca-75f592ebb6a9",
   "metadata": {},
   "outputs": [
    {
     "data": {
      "text/html": [
       "<div>\n",
       "<style scoped>\n",
       "    .dataframe tbody tr th:only-of-type {\n",
       "        vertical-align: middle;\n",
       "    }\n",
       "\n",
       "    .dataframe tbody tr th {\n",
       "        vertical-align: top;\n",
       "    }\n",
       "\n",
       "    .dataframe thead th {\n",
       "        text-align: right;\n",
       "    }\n",
       "</style>\n",
       "<table border=\"1\" class=\"dataframe\">\n",
       "  <thead>\n",
       "    <tr style=\"text-align: right;\">\n",
       "      <th></th>\n",
       "      <th>SupplierQuality</th>\n",
       "      <th>DefectRate</th>\n",
       "      <th>QualityScore</th>\n",
       "      <th>MaintenanceHours</th>\n",
       "      <th>DowntimePercentage</th>\n",
       "      <th>SafetyIncidents</th>\n",
       "      <th>EnergyConsumption</th>\n",
       "      <th>DefectStatus</th>\n",
       "    </tr>\n",
       "  </thead>\n",
       "  <tbody>\n",
       "    <tr>\n",
       "      <th>0</th>\n",
       "      <td>86.648534</td>\n",
       "      <td>3.121492</td>\n",
       "      <td>63.463494</td>\n",
       "      <td>9</td>\n",
       "      <td>0.052343</td>\n",
       "      <td>0</td>\n",
       "      <td>2419.616785</td>\n",
       "      <td>1</td>\n",
       "    </tr>\n",
       "    <tr>\n",
       "      <th>1</th>\n",
       "      <td>86.310664</td>\n",
       "      <td>0.819531</td>\n",
       "      <td>83.697818</td>\n",
       "      <td>20</td>\n",
       "      <td>4.908328</td>\n",
       "      <td>7</td>\n",
       "      <td>3915.566713</td>\n",
       "      <td>1</td>\n",
       "    </tr>\n",
       "    <tr>\n",
       "      <th>2</th>\n",
       "      <td>82.132472</td>\n",
       "      <td>4.514504</td>\n",
       "      <td>90.350550</td>\n",
       "      <td>1</td>\n",
       "      <td>2.464923</td>\n",
       "      <td>2</td>\n",
       "      <td>3392.385362</td>\n",
       "      <td>1</td>\n",
       "    </tr>\n",
       "    <tr>\n",
       "      <th>3</th>\n",
       "      <td>87.335966</td>\n",
       "      <td>0.638524</td>\n",
       "      <td>67.628690</td>\n",
       "      <td>8</td>\n",
       "      <td>4.692476</td>\n",
       "      <td>8</td>\n",
       "      <td>4652.400275</td>\n",
       "      <td>1</td>\n",
       "    </tr>\n",
       "    <tr>\n",
       "      <th>4</th>\n",
       "      <td>81.989893</td>\n",
       "      <td>3.867784</td>\n",
       "      <td>82.728334</td>\n",
       "      <td>9</td>\n",
       "      <td>2.746726</td>\n",
       "      <td>7</td>\n",
       "      <td>1581.630332</td>\n",
       "      <td>1</td>\n",
       "    </tr>\n",
       "  </tbody>\n",
       "</table>\n",
       "</div>"
      ],
      "text/plain": [
       "   SupplierQuality  DefectRate  QualityScore  MaintenanceHours  \\\n",
       "0        86.648534    3.121492     63.463494                 9   \n",
       "1        86.310664    0.819531     83.697818                20   \n",
       "2        82.132472    4.514504     90.350550                 1   \n",
       "3        87.335966    0.638524     67.628690                 8   \n",
       "4        81.989893    3.867784     82.728334                 9   \n",
       "\n",
       "   DowntimePercentage  SafetyIncidents  EnergyConsumption  DefectStatus  \n",
       "0            0.052343                0        2419.616785             1  \n",
       "1            4.908328                7        3915.566713             1  \n",
       "2            2.464923                2        3392.385362             1  \n",
       "3            4.692476                8        4652.400275             1  \n",
       "4            2.746726                7        1581.630332             1  "
      ]
     },
     "execution_count": 9,
     "metadata": {},
     "output_type": "execute_result"
    }
   ],
   "source": [
    "# Checking values in columns.\n",
    "df.head()"
   ]
  },
  {
   "cell_type": "code",
   "execution_count": 10,
   "id": "dd357035-4190-4248-a7ee-840cd842298d",
   "metadata": {},
   "outputs": [],
   "source": [
    "y = df.iloc[:, -1]\n",
    "x = df.iloc[:, :-1]"
   ]
  },
  {
   "cell_type": "code",
   "execution_count": 11,
   "id": "e46c3a3a-df2a-408b-ab4c-bd41e26dbfcf",
   "metadata": {},
   "outputs": [],
   "source": [
    "# Spliting the data into training and testing dataset.\n",
    "x_train , x_test , y_train , y_test = train_test_split(x, y , random_state = 42 , test_size = 0.2)"
   ]
  },
  {
   "cell_type": "code",
   "execution_count": 12,
   "id": "be8db193-ee95-4884-99f6-3f98872e84de",
   "metadata": {},
   "outputs": [
    {
     "name": "stdout",
     "output_type": "stream",
     "text": [
      "Training Input data shape :  (2592, 7)\n",
      "Training Output data shape :  (2592,)\n",
      "Test Input data shape :  (648, 7)\n",
      "Test Output data shape :  (648,)\n"
     ]
    }
   ],
   "source": [
    "# Checking the shapes of datasets .\n",
    "print(\"Training Input data shape : \" ,x_train.shape)\n",
    "print(\"Training Output data shape : \" ,y_train.shape)\n",
    "print(\"Test Input data shape : \" ,x_test.shape)\n",
    "print(\"Test Output data shape : \" ,y_test.shape)"
   ]
  },
  {
   "cell_type": "code",
   "execution_count": 13,
   "id": "de9fc3b4-c2bd-43ef-bc79-97ba97986b83",
   "metadata": {},
   "outputs": [
    {
     "name": "stdout",
     "output_type": "stream",
     "text": [
      "Scaler saved successfully!\n"
     ]
    }
   ],
   "source": [
    "# Since the scale of values are different in datasets , so we have to scale it .\n",
    "\n",
    "from sklearn.preprocessing import StandardScaler\n",
    "Scaler = StandardScaler()\n",
    "\n",
    "x_train = Scaler.fit_transform(x_train)\n",
    "x_test = Scaler.fit_transform(x_test)\n",
    "\n",
    "import pickle\n",
    "\n",
    "# Saving the predictive model.\n",
    "with open(\"Scaler.pkl\", \"wb\") as model_file:\n",
    "    pickle.dump(Scaler, model_file)\n",
    "\n",
    "print(\"Scaler saved successfully!\")\n"
   ]
  },
  {
   "cell_type": "code",
   "execution_count": 14,
   "id": "20f79c90-9519-4895-b0ef-1cca14139143",
   "metadata": {},
   "outputs": [
    {
     "name": "stdout",
     "output_type": "stream",
     "text": [
      "First Training Row :  [-0.91367607 -0.65455818  0.75128437  1.09829367 -0.725719    0.82945024\n",
      "  0.65593582]\n",
      "First Training output :  1\n"
     ]
    }
   ],
   "source": [
    "# Printing scaled data.\n",
    "print(\"First Training Row : \", x_train[0])\n",
    "print(\"First Training output : \" , y_train.iloc[0])"
   ]
  },
  {
   "cell_type": "markdown",
   "id": "7faa43b2-b6c6-4abd-9f6b-436d5e462a0b",
   "metadata": {},
   "source": [
    "# Making Model for classification task."
   ]
  },
  {
   "cell_type": "markdown",
   "id": "55b5dc9b-5a5d-43a0-bfd5-7139dcff2432",
   "metadata": {},
   "source": [
    "Since the Randomforest is an algorithm which provide the high accuracy for the dataset and handles Non-Linearity and Complex Relationships , so we are using that algorithm for our classification task."
   ]
  },
  {
   "cell_type": "code",
   "execution_count": 15,
   "id": "e7c62812-7a6d-4b4c-888e-6ebb73c33c86",
   "metadata": {},
   "outputs": [],
   "source": [
    "from sklearn.ensemble import RandomForestClassifier\n",
    "from sklearn.model_selection import cross_val_score\n",
    "from sklearn.metrics import accuracy_score"
   ]
  },
  {
   "cell_type": "markdown",
   "id": "ac7646ad-62f1-42fc-b720-197fd4f1c9ea",
   "metadata": {},
   "source": [
    "We will use optuna library for fine tuning the model's parameters ."
   ]
  },
  {
   "cell_type": "code",
   "execution_count": 16,
   "id": "ccf9a1e9-a44d-4820-b25c-341e036def1e",
   "metadata": {},
   "outputs": [],
   "source": [
    "# Creating the objective function .\n",
    "def objective_func(trial):\n",
    "    n_estimators = trial.suggest_int(\"n_estimators\", 50, 250)\n",
    "    max_depth = trial.suggest_int(\"max_depth\", 5, 30, log=True)\n",
    "    min_samples_split = trial.suggest_int(\"min_samples_split\", 2, 20)\n",
    "    min_samples_leaf = trial.suggest_int(\"min_samples_leaf\", 1, 10)\n",
    "    max_features = trial.suggest_categorical(\"max_features\", [\"sqrt\", \"log2\", None])\n",
    "\n",
    "    model = RandomForestClassifier(\n",
    "        n_estimators=n_estimators,\n",
    "        max_depth=max_depth,\n",
    "        min_samples_split=min_samples_split,\n",
    "        min_samples_leaf=min_samples_leaf,\n",
    "        max_features=max_features,\n",
    "        random_state=42,\n",
    "        n_jobs=-1\n",
    "    )\n",
    "\n",
    "    # Train the model\n",
    "    model.fit(x_train, y_train)\n",
    "    \n",
    "    # Predict on the validation set\n",
    "    y_pred = model.predict(x_test)\n",
    "    \n",
    "    # Calculate accuracy\n",
    "    accuracy = accuracy_score(y_test, y_pred)\n",
    "    # score = cross_val_score(model , x_train, y_train , cv=3 ,scoring = 'accuracy').mean()\n",
    "    return  accuracy "
   ]
  },
  {
   "cell_type": "code",
   "execution_count": 17,
   "id": "e85026cd-0c14-46b7-aed8-f099dd09e229",
   "metadata": {},
   "outputs": [
    {
     "name": "stderr",
     "output_type": "stream",
     "text": [
      "[I 2025-01-23 20:00:57,979] A new study created in memory with name: no-name-47a6d3f4-3ea6-498c-8d25-a61c7232fa08\n",
      "[I 2025-01-23 20:00:58,536] Trial 0 finished with value: 0.9135802469135802 and parameters: {'n_estimators': 80, 'max_depth': 5, 'min_samples_split': 3, 'min_samples_leaf': 3, 'max_features': 'log2'}. Best is trial 0 with value: 0.9135802469135802.\n",
      "[I 2025-01-23 20:00:59,627] Trial 1 finished with value: 0.9151234567901234 and parameters: {'n_estimators': 130, 'max_depth': 5, 'min_samples_split': 5, 'min_samples_leaf': 10, 'max_features': 'sqrt'}. Best is trial 1 with value: 0.9151234567901234.\n",
      "[I 2025-01-23 20:01:02,498] Trial 2 finished with value: 0.9120370370370371 and parameters: {'n_estimators': 149, 'max_depth': 22, 'min_samples_split': 4, 'min_samples_leaf': 2, 'max_features': None}. Best is trial 1 with value: 0.9151234567901234.\n",
      "[I 2025-01-23 20:01:05,063] Trial 3 finished with value: 0.9120370370370371 and parameters: {'n_estimators': 152, 'max_depth': 26, 'min_samples_split': 13, 'min_samples_leaf': 3, 'max_features': None}. Best is trial 1 with value: 0.9151234567901234.\n",
      "[I 2025-01-23 20:01:07,168] Trial 4 finished with value: 0.9120370370370371 and parameters: {'n_estimators': 126, 'max_depth': 6, 'min_samples_split': 4, 'min_samples_leaf': 2, 'max_features': None}. Best is trial 1 with value: 0.9151234567901234.\n",
      "[I 2025-01-23 20:01:08,669] Trial 5 finished with value: 0.9104938271604939 and parameters: {'n_estimators': 108, 'max_depth': 15, 'min_samples_split': 5, 'min_samples_leaf': 10, 'max_features': 'log2'}. Best is trial 1 with value: 0.9151234567901234.\n",
      "[I 2025-01-23 20:01:11,635] Trial 6 finished with value: 0.9104938271604939 and parameters: {'n_estimators': 199, 'max_depth': 20, 'min_samples_split': 13, 'min_samples_leaf': 7, 'max_features': 'sqrt'}. Best is trial 1 with value: 0.9151234567901234.\n",
      "[I 2025-01-23 20:01:13,784] Trial 7 finished with value: 0.9104938271604939 and parameters: {'n_estimators': 139, 'max_depth': 15, 'min_samples_split': 14, 'min_samples_leaf': 1, 'max_features': 'log2'}. Best is trial 1 with value: 0.9151234567901234.\n",
      "[I 2025-01-23 20:01:16,322] Trial 8 finished with value: 0.9120370370370371 and parameters: {'n_estimators': 115, 'max_depth': 7, 'min_samples_split': 20, 'min_samples_leaf': 1, 'max_features': None}. Best is trial 1 with value: 0.9151234567901234.\n",
      "[I 2025-01-23 20:01:18,788] Trial 9 finished with value: 0.9120370370370371 and parameters: {'n_estimators': 83, 'max_depth': 19, 'min_samples_split': 4, 'min_samples_leaf': 10, 'max_features': None}. Best is trial 1 with value: 0.9151234567901234.\n",
      "[I 2025-01-23 20:01:21,321] Trial 10 finished with value: 0.9104938271604939 and parameters: {'n_estimators': 215, 'max_depth': 9, 'min_samples_split': 8, 'min_samples_leaf': 6, 'max_features': 'sqrt'}. Best is trial 1 with value: 0.9151234567901234.\n",
      "[I 2025-01-23 20:01:21,979] Trial 11 finished with value: 0.9104938271604939 and parameters: {'n_estimators': 58, 'max_depth': 5, 'min_samples_split': 8, 'min_samples_leaf': 4, 'max_features': 'log2'}. Best is trial 1 with value: 0.9151234567901234.\n",
      "[I 2025-01-23 20:01:22,773] Trial 12 finished with value: 0.9104938271604939 and parameters: {'n_estimators': 60, 'max_depth': 9, 'min_samples_split': 2, 'min_samples_leaf': 8, 'max_features': 'sqrt'}. Best is trial 1 with value: 0.9151234567901234.\n",
      "[I 2025-01-23 20:01:24,203] Trial 13 finished with value: 0.9151234567901234 and parameters: {'n_estimators': 179, 'max_depth': 5, 'min_samples_split': 8, 'min_samples_leaf': 5, 'max_features': 'sqrt'}. Best is trial 1 with value: 0.9151234567901234.\n",
      "[I 2025-01-23 20:01:25,964] Trial 14 finished with value: 0.9104938271604939 and parameters: {'n_estimators': 179, 'max_depth': 8, 'min_samples_split': 8, 'min_samples_leaf': 5, 'max_features': 'sqrt'}. Best is trial 1 with value: 0.9151234567901234.\n",
      "[I 2025-01-23 20:01:28,248] Trial 15 finished with value: 0.9104938271604939 and parameters: {'n_estimators': 243, 'max_depth': 11, 'min_samples_split': 10, 'min_samples_leaf': 8, 'max_features': 'sqrt'}. Best is trial 1 with value: 0.9151234567901234.\n",
      "[I 2025-01-23 20:01:29,509] Trial 16 finished with value: 0.9135802469135802 and parameters: {'n_estimators': 173, 'max_depth': 6, 'min_samples_split': 6, 'min_samples_leaf': 6, 'max_features': 'sqrt'}. Best is trial 1 with value: 0.9151234567901234.\n",
      "[I 2025-01-23 20:01:31,002] Trial 17 finished with value: 0.9135802469135802 and parameters: {'n_estimators': 175, 'max_depth': 5, 'min_samples_split': 18, 'min_samples_leaf': 8, 'max_features': 'sqrt'}. Best is trial 1 with value: 0.9151234567901234.\n",
      "[I 2025-01-23 20:01:32,793] Trial 18 finished with value: 0.9120370370370371 and parameters: {'n_estimators': 217, 'max_depth': 7, 'min_samples_split': 10, 'min_samples_leaf': 5, 'max_features': 'sqrt'}. Best is trial 1 with value: 0.9151234567901234.\n",
      "[I 2025-01-23 20:01:35,269] Trial 19 finished with value: 0.9120370370370371 and parameters: {'n_estimators': 248, 'max_depth': 11, 'min_samples_split': 7, 'min_samples_leaf': 9, 'max_features': 'sqrt'}. Best is trial 1 with value: 0.9151234567901234.\n",
      "[I 2025-01-23 20:01:35,854] Trial 20 finished with value: 0.9166666666666666 and parameters: {'n_estimators': 91, 'max_depth': 6, 'min_samples_split': 11, 'min_samples_leaf': 7, 'max_features': 'sqrt'}. Best is trial 20 with value: 0.9166666666666666.\n",
      "[I 2025-01-23 20:01:36,415] Trial 21 finished with value: 0.9135802469135802 and parameters: {'n_estimators': 93, 'max_depth': 6, 'min_samples_split': 15, 'min_samples_leaf': 7, 'max_features': 'sqrt'}. Best is trial 20 with value: 0.9166666666666666.\n",
      "[I 2025-01-23 20:01:37,013] Trial 22 finished with value: 0.9151234567901234 and parameters: {'n_estimators': 102, 'max_depth': 5, 'min_samples_split': 11, 'min_samples_leaf': 9, 'max_features': 'sqrt'}. Best is trial 20 with value: 0.9166666666666666.\n",
      "[I 2025-01-23 20:01:38,135] Trial 23 finished with value: 0.9120370370370371 and parameters: {'n_estimators': 134, 'max_depth': 7, 'min_samples_split': 10, 'min_samples_leaf': 7, 'max_features': 'sqrt'}. Best is trial 20 with value: 0.9166666666666666.\n",
      "[I 2025-01-23 20:01:38,852] Trial 24 finished with value: 0.9135802469135802 and parameters: {'n_estimators': 74, 'max_depth': 6, 'min_samples_split': 6, 'min_samples_leaf': 4, 'max_features': 'sqrt'}. Best is trial 20 with value: 0.9166666666666666.\n",
      "[I 2025-01-23 20:01:40,063] Trial 25 finished with value: 0.9120370370370371 and parameters: {'n_estimators': 152, 'max_depth': 8, 'min_samples_split': 12, 'min_samples_leaf': 9, 'max_features': 'sqrt'}. Best is trial 20 with value: 0.9166666666666666.\n",
      "[I 2025-01-23 20:01:41,166] Trial 26 finished with value: 0.9120370370370371 and parameters: {'n_estimators': 193, 'max_depth': 5, 'min_samples_split': 9, 'min_samples_leaf': 5, 'max_features': 'sqrt'}. Best is trial 20 with value: 0.9166666666666666.\n",
      "[I 2025-01-23 20:01:42,026] Trial 27 finished with value: 0.9166666666666666 and parameters: {'n_estimators': 114, 'max_depth': 6, 'min_samples_split': 17, 'min_samples_leaf': 6, 'max_features': 'sqrt'}. Best is trial 20 with value: 0.9166666666666666.\n",
      "[I 2025-01-23 20:01:43,457] Trial 28 finished with value: 0.9104938271604939 and parameters: {'n_estimators': 120, 'max_depth': 13, 'min_samples_split': 16, 'min_samples_leaf': 6, 'max_features': 'log2'}. Best is trial 20 with value: 0.9166666666666666.\n",
      "[I 2025-01-23 20:01:44,467] Trial 29 finished with value: 0.9120370370370371 and parameters: {'n_estimators': 91, 'max_depth': 9, 'min_samples_split': 18, 'min_samples_leaf': 10, 'max_features': 'sqrt'}. Best is trial 20 with value: 0.9166666666666666.\n",
      "[I 2025-01-23 20:01:45,062] Trial 30 finished with value: 0.9135802469135802 and parameters: {'n_estimators': 73, 'max_depth': 6, 'min_samples_split': 17, 'min_samples_leaf': 7, 'max_features': 'log2'}. Best is trial 20 with value: 0.9166666666666666.\n",
      "[I 2025-01-23 20:01:45,863] Trial 31 finished with value: 0.9151234567901234 and parameters: {'n_estimators': 106, 'max_depth': 5, 'min_samples_split': 20, 'min_samples_leaf': 6, 'max_features': 'sqrt'}. Best is trial 20 with value: 0.9166666666666666.\n",
      "[I 2025-01-23 20:01:47,469] Trial 32 finished with value: 0.9120370370370371 and parameters: {'n_estimators': 163, 'max_depth': 7, 'min_samples_split': 12, 'min_samples_leaf': 4, 'max_features': 'sqrt'}. Best is trial 20 with value: 0.9166666666666666.\n",
      "[I 2025-01-23 20:01:48,630] Trial 33 finished with value: 0.9104938271604939 and parameters: {'n_estimators': 142, 'max_depth': 8, 'min_samples_split': 2, 'min_samples_leaf': 3, 'max_features': 'sqrt'}. Best is trial 20 with value: 0.9166666666666666.\n",
      "[I 2025-01-23 20:01:51,359] Trial 34 finished with value: 0.9120370370370371 and parameters: {'n_estimators': 162, 'max_depth': 6, 'min_samples_split': 6, 'min_samples_leaf': 5, 'max_features': None}. Best is trial 20 with value: 0.9166666666666666.\n",
      "[I 2025-01-23 20:01:52,327] Trial 35 finished with value: 0.9135802469135802 and parameters: {'n_estimators': 130, 'max_depth': 5, 'min_samples_split': 5, 'min_samples_leaf': 4, 'max_features': 'sqrt'}. Best is trial 20 with value: 0.9166666666666666.\n",
      "[I 2025-01-23 20:01:53,540] Trial 36 finished with value: 0.9166666666666666 and parameters: {'n_estimators': 120, 'max_depth': 6, 'min_samples_split': 14, 'min_samples_leaf': 3, 'max_features': 'sqrt'}. Best is trial 20 with value: 0.9166666666666666.\n",
      "[I 2025-01-23 20:01:56,528] Trial 37 finished with value: 0.9104938271604939 and parameters: {'n_estimators': 116, 'max_depth': 27, 'min_samples_split': 15, 'min_samples_leaf': 2, 'max_features': None}. Best is trial 20 with value: 0.9166666666666666.\n",
      "[I 2025-01-23 20:01:57,448] Trial 38 finished with value: 0.9120370370370371 and parameters: {'n_estimators': 95, 'max_depth': 10, 'min_samples_split': 14, 'min_samples_leaf': 3, 'max_features': 'sqrt'}. Best is trial 20 with value: 0.9166666666666666.\n",
      "[I 2025-01-23 20:01:58,408] Trial 39 finished with value: 0.9104938271604939 and parameters: {'n_estimators': 123, 'max_depth': 30, 'min_samples_split': 18, 'min_samples_leaf': 2, 'max_features': 'log2'}. Best is trial 20 with value: 0.9166666666666666.\n",
      "[I 2025-01-23 20:02:00,689] Trial 40 finished with value: 0.9120370370370371 and parameters: {'n_estimators': 142, 'max_depth': 7, 'min_samples_split': 13, 'min_samples_leaf': 8, 'max_features': None}. Best is trial 20 with value: 0.9166666666666666.\n",
      "[I 2025-01-23 20:02:01,867] Trial 41 finished with value: 0.9135802469135802 and parameters: {'n_estimators': 109, 'max_depth': 6, 'min_samples_split': 11, 'min_samples_leaf': 3, 'max_features': 'sqrt'}. Best is trial 20 with value: 0.9166666666666666.\n",
      "[I 2025-01-23 20:02:02,775] Trial 42 finished with value: 0.9120370370370371 and parameters: {'n_estimators': 83, 'max_depth': 7, 'min_samples_split': 16, 'min_samples_leaf': 6, 'max_features': 'sqrt'}. Best is trial 20 with value: 0.9166666666666666.\n",
      "[I 2025-01-23 20:02:03,515] Trial 43 finished with value: 0.9151234567901234 and parameters: {'n_estimators': 128, 'max_depth': 6, 'min_samples_split': 3, 'min_samples_leaf': 7, 'max_features': 'sqrt'}. Best is trial 20 with value: 0.9166666666666666.\n",
      "[I 2025-01-23 20:02:04,852] Trial 44 finished with value: 0.9104938271604939 and parameters: {'n_estimators': 163, 'max_depth': 14, 'min_samples_split': 9, 'min_samples_leaf': 5, 'max_features': 'sqrt'}. Best is trial 20 with value: 0.9166666666666666.\n",
      "[I 2025-01-23 20:02:06,085] Trial 45 finished with value: 0.9120370370370371 and parameters: {'n_estimators': 153, 'max_depth': 8, 'min_samples_split': 12, 'min_samples_leaf': 2, 'max_features': 'sqrt'}. Best is trial 20 with value: 0.9166666666666666.\n",
      "[I 2025-01-23 20:02:07,744] Trial 46 finished with value: 0.9104938271604939 and parameters: {'n_estimators': 185, 'max_depth': 21, 'min_samples_split': 14, 'min_samples_leaf': 10, 'max_features': 'sqrt'}. Best is trial 20 with value: 0.9166666666666666.\n",
      "[I 2025-01-23 20:02:08,424] Trial 47 finished with value: 0.9135802469135802 and parameters: {'n_estimators': 112, 'max_depth': 5, 'min_samples_split': 7, 'min_samples_leaf': 1, 'max_features': 'log2'}. Best is trial 20 with value: 0.9166666666666666.\n",
      "[I 2025-01-23 20:02:09,736] Trial 48 finished with value: 0.9135802469135802 and parameters: {'n_estimators': 208, 'max_depth': 5, 'min_samples_split': 4, 'min_samples_leaf': 4, 'max_features': 'sqrt'}. Best is trial 20 with value: 0.9166666666666666.\n",
      "[I 2025-01-23 20:02:10,975] Trial 49 finished with value: 0.9120370370370371 and parameters: {'n_estimators': 65, 'max_depth': 9, 'min_samples_split': 9, 'min_samples_leaf': 9, 'max_features': None}. Best is trial 20 with value: 0.9166666666666666.\n"
     ]
    }
   ],
   "source": [
    "study = optuna.create_study(direction=\"maximize\")  \n",
    "study.optimize(objective_func, n_trials=50, timeout=600) "
   ]
  },
  {
   "cell_type": "code",
   "execution_count": 18,
   "id": "d4a9171c-8b23-44fe-b077-d43852ce6a4a",
   "metadata": {},
   "outputs": [
    {
     "name": "stdout",
     "output_type": "stream",
     "text": [
      "Best Hyperparameters: {'n_estimators': 91, 'max_depth': 6, 'min_samples_split': 11, 'min_samples_leaf': 7, 'max_features': 'sqrt'}\n",
      "Best Accuracy: 0.9166666666666666\n"
     ]
    }
   ],
   "source": [
    "# Finding best model parameters and best accuracy.\n",
    "best_params = study.best_params\n",
    "best_accuracy = study.best_value\n",
    "\n",
    "print(\"Best Hyperparameters:\", best_params)\n",
    "print(\"Best Accuracy:\", best_accuracy)"
   ]
  },
  {
   "cell_type": "code",
   "execution_count": 19,
   "id": "69a1a367-73fb-4bf5-aaac-f8725dab6234",
   "metadata": {},
   "outputs": [
    {
     "name": "stdout",
     "output_type": "stream",
     "text": [
      "Final Model Accuracy: 0.9166666666666666\n"
     ]
    }
   ],
   "source": [
    "# Creating the final model .\n",
    "best_model = RandomForestClassifier(\n",
    "    n_estimators=best_params[\"n_estimators\"],\n",
    "    max_depth=best_params[\"max_depth\"],\n",
    "    min_samples_split=best_params[\"min_samples_split\"],\n",
    "    min_samples_leaf=best_params[\"min_samples_leaf\"],\n",
    "    max_features=best_params[\"max_features\"],\n",
    "    random_state=42,\n",
    "    n_jobs=-1\n",
    ")\n",
    "best_model.fit(x_train, y_train)\n",
    "\n",
    "# Evaluate final model\n",
    "final_accuracy = accuracy_score(y_test, best_model.predict(x_test))\n",
    "print(\"Final Model Accuracy:\", final_accuracy)"
   ]
  },
  {
   "cell_type": "markdown",
   "id": "27f1ba52",
   "metadata": {},
   "source": [
    "Testing the model."
   ]
  },
  {
   "cell_type": "code",
   "execution_count": 25,
   "id": "89d116e5",
   "metadata": {},
   "outputs": [
    {
     "name": "stdout",
     "output_type": "stream",
     "text": [
      "[[-0.49245282  0.18569816 -1.49017592 -0.37509987 -1.69379592 -1.24496405\n",
      "  -0.49056541]]\n",
      "[1]\n"
     ]
    },
    {
     "name": "stderr",
     "output_type": "stream",
     "text": [
      "c:\\Users\\12348\\AppData\\Local\\Programs\\Python\\Python312\\Lib\\site-packages\\sklearn\\base.py:465: UserWarning: X does not have valid feature names, but StandardScaler was fitted with feature names\n",
      "  warnings.warn(\n"
     ]
    }
   ],
   "source": [
    "with open('Scaler.pkl', 'rb') as f: \n",
    "    Scaler = pickle.load(f)\n",
    "    \n",
    "X_new = [[86.648534, 3.121492, 63.463494, 9, 0.052343, 1, 2419.616785]]\n",
    "X_new = Scaler.transform(X_new)\n",
    "print(X_new)\n",
    "pred = best_model.predict( X_new )\n",
    "print(pred)"
   ]
  },
  {
   "cell_type": "markdown",
   "id": "cc3e7c0f",
   "metadata": {},
   "source": [
    "### Saving the model ."
   ]
  },
  {
   "cell_type": "code",
   "execution_count": 21,
   "id": "9788187e-ba9b-4ef1-901f-89a6a3447ab5",
   "metadata": {},
   "outputs": [
    {
     "name": "stdout",
     "output_type": "stream",
     "text": [
      "Model saved successfully!\n"
     ]
    }
   ],
   "source": [
    "import pickle\n",
    "\n",
    "# Saving the predictive model.\n",
    "with open(\"final_random_forest_model.pkl\", \"wb\") as model_file:\n",
    "    pickle.dump(best_model, model_file)\n",
    "\n",
    "print(\"Model saved successfully!\")\n"
   ]
  },
  {
   "cell_type": "markdown",
   "id": "e3011638",
   "metadata": {},
   "source": [
    "# Testing by giving the input data"
   ]
  },
  {
   "cell_type": "markdown",
   "id": "8bd772a6",
   "metadata": {},
   "source": [
    "### First run the app.py for activating the server ."
   ]
  },
  {
   "cell_type": "code",
   "execution_count": 3,
   "id": "dc1c45d3",
   "metadata": {},
   "outputs": [
    {
     "name": "stdout",
     "output_type": "stream",
     "text": [
      "Defect Status is : YES\n",
      "Confidence score is :  0.8925836770921677\n"
     ]
    }
   ],
   "source": [
    "import requests\n",
    "\n",
    "url = 'http://127.0.0.1:5000/predict_defect_status'\n",
    "\n",
    "# Chnage the values accordingly .\n",
    "data = {\n",
    "    \"SupplierQuality\":86.648534\t ,\n",
    "    \"DefectRate\": 3.121492,\n",
    "    \"QualityScore\": 63.463494\t,\n",
    "    \"MaintenanceHours\":9  ,\n",
    "    \"DowntimePercentage\": 0.052343,\n",
    "    \"SafetyIncidents\":1 ,\n",
    "    \"EnergyConsumption\": 2419.616785,\t\n",
    "}\n",
    "# headers = {'Content-Type': 'application/json'}\n",
    "\n",
    "response = requests.post(url,json=data)\n",
    "if response.status_code == 200:\n",
    "    response = response.json()\n",
    "    defecet_status = \"NO\"\n",
    "    if response['DefectStatus'] == 1:\n",
    "         defecet_status = \"YES\"\n",
    "    print(\"Defect Status is :\" , defecet_status)\n",
    "    print(\"Confidence score is : \" , response['ConfidenceScore'])\n",
    "else:\n",
    "    print(f\"Error: {response.status_code}\")"
   ]
  },
  {
   "cell_type": "code",
   "execution_count": null,
   "id": "23ae3e84",
   "metadata": {},
   "outputs": [],
   "source": []
  }
 ],
 "metadata": {
  "kernelspec": {
   "display_name": "Python 3",
   "language": "python",
   "name": "python3"
  },
  "language_info": {
   "codemirror_mode": {
    "name": "ipython",
    "version": 3
   },
   "file_extension": ".py",
   "mimetype": "text/x-python",
   "name": "python",
   "nbconvert_exporter": "python",
   "pygments_lexer": "ipython3",
   "version": "3.12.1"
  }
 },
 "nbformat": 4,
 "nbformat_minor": 5
}
